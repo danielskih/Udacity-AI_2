{
 "cells": [
  {
   "cell_type": "code",
   "execution_count": 1,
   "metadata": {},
   "outputs": [],
   "source": [
    "rows = 'ABCDEFGHI'\n",
    "cols = '123456789'"
   ]
  },
  {
   "cell_type": "code",
   "execution_count": 2,
   "metadata": {},
   "outputs": [],
   "source": [
    "def cross(a, b):\n",
    "      return [s+t for s in a for t in b]"
   ]
  },
  {
   "cell_type": "code",
   "execution_count": 3,
   "metadata": {
    "collapsed": true
   },
   "outputs": [
    {
     "data": {
      "text/plain": [
       "['A1',\n",
       " 'A2',\n",
       " 'A3',\n",
       " 'A4',\n",
       " 'A5',\n",
       " 'A6',\n",
       " 'A7',\n",
       " 'A8',\n",
       " 'A9',\n",
       " 'B1',\n",
       " 'B2',\n",
       " 'B3',\n",
       " 'B4',\n",
       " 'B5',\n",
       " 'B6',\n",
       " 'B7',\n",
       " 'B8',\n",
       " 'B9',\n",
       " 'C1',\n",
       " 'C2',\n",
       " 'C3',\n",
       " 'C4',\n",
       " 'C5',\n",
       " 'C6',\n",
       " 'C7',\n",
       " 'C8',\n",
       " 'C9',\n",
       " 'D1',\n",
       " 'D2',\n",
       " 'D3',\n",
       " 'D4',\n",
       " 'D5',\n",
       " 'D6',\n",
       " 'D7',\n",
       " 'D8',\n",
       " 'D9',\n",
       " 'E1',\n",
       " 'E2',\n",
       " 'E3',\n",
       " 'E4',\n",
       " 'E5',\n",
       " 'E6',\n",
       " 'E7',\n",
       " 'E8',\n",
       " 'E9',\n",
       " 'F1',\n",
       " 'F2',\n",
       " 'F3',\n",
       " 'F4',\n",
       " 'F5',\n",
       " 'F6',\n",
       " 'F7',\n",
       " 'F8',\n",
       " 'F9',\n",
       " 'G1',\n",
       " 'G2',\n",
       " 'G3',\n",
       " 'G4',\n",
       " 'G5',\n",
       " 'G6',\n",
       " 'G7',\n",
       " 'G8',\n",
       " 'G9',\n",
       " 'H1',\n",
       " 'H2',\n",
       " 'H3',\n",
       " 'H4',\n",
       " 'H5',\n",
       " 'H6',\n",
       " 'H7',\n",
       " 'H8',\n",
       " 'H9',\n",
       " 'I1',\n",
       " 'I2',\n",
       " 'I3',\n",
       " 'I4',\n",
       " 'I5',\n",
       " 'I6',\n",
       " 'I7',\n",
       " 'I8',\n",
       " 'I9']"
      ]
     },
     "execution_count": 3,
     "metadata": {},
     "output_type": "execute_result"
    }
   ],
   "source": [
    "boxes = cross(rows, cols)\n",
    "boxes"
   ]
  },
  {
   "cell_type": "code",
   "execution_count": 76,
   "metadata": {},
   "outputs": [],
   "source": [
    "from utils import *"
   ]
  },
  {
   "cell_type": "code",
   "execution_count": 262,
   "metadata": {},
   "outputs": [],
   "source": [
    "row_units = [cross(r, cols) for r in rows]\n",
    "# Element example:\n",
    "# row_units[0] = ['A1', 'A2', 'A3', 'A4', 'A5', 'A6', 'A7', 'A8', 'A9']\n",
    "# This is the top most row.\n",
    "\n",
    "column_units = [cross(rows, c) for c in cols]\n",
    "# Element example:\n",
    "# column_units[0] = ['A1', 'B1', 'C1', 'D1', 'E1', 'F1', 'G1', 'H1', 'I1']\n",
    "# This is the left most column.\n",
    "\n",
    "square_units = [cross(rs, cs) for rs in ('ABC','DEF','GHI') for cs in ('123','456','789')]\n",
    "# Element example:\n",
    "# square_units[0] = ['A1', 'A2', 'A3', 'B1', 'B2', 'B3', 'C1', 'C2', 'C3']\n",
    "# This is the top left square.\n",
    "\n",
    "unitlist = row_units + column_units + square_units"
   ]
  },
  {
   "cell_type": "code",
   "execution_count": 334,
   "metadata": {
    "collapsed": true
   },
   "outputs": [
    {
     "data": {
      "text/plain": [
       "[['A1', 'A2', 'A3', 'A4', 'A5', 'A6', 'A7', 'A8', 'A9'],\n",
       " ['B1', 'B2', 'B3', 'B4', 'B5', 'B6', 'B7', 'B8', 'B9'],\n",
       " ['C1', 'C2', 'C3', 'C4', 'C5', 'C6', 'C7', 'C8', 'C9'],\n",
       " ['D1', 'D2', 'D3', 'D4', 'D5', 'D6', 'D7', 'D8', 'D9'],\n",
       " ['E1', 'E2', 'E3', 'E4', 'E5', 'E6', 'E7', 'E8', 'E9'],\n",
       " ['F1', 'F2', 'F3', 'F4', 'F5', 'F6', 'F7', 'F8', 'F9'],\n",
       " ['G1', 'G2', 'G3', 'G4', 'G5', 'G6', 'G7', 'G8', 'G9'],\n",
       " ['H1', 'H2', 'H3', 'H4', 'H5', 'H6', 'H7', 'H8', 'H9'],\n",
       " ['I1', 'I2', 'I3', 'I4', 'I5', 'I6', 'I7', 'I8', 'I9'],\n",
       " ['A1', 'B1', 'C1', 'D1', 'E1', 'F1', 'G1', 'H1', 'I1'],\n",
       " ['A2', 'B2', 'C2', 'D2', 'E2', 'F2', 'G2', 'H2', 'I2'],\n",
       " ['A3', 'B3', 'C3', 'D3', 'E3', 'F3', 'G3', 'H3', 'I3'],\n",
       " ['A4', 'B4', 'C4', 'D4', 'E4', 'F4', 'G4', 'H4', 'I4'],\n",
       " ['A5', 'B5', 'C5', 'D5', 'E5', 'F5', 'G5', 'H5', 'I5'],\n",
       " ['A6', 'B6', 'C6', 'D6', 'E6', 'F6', 'G6', 'H6', 'I6'],\n",
       " ['A7', 'B7', 'C7', 'D7', 'E7', 'F7', 'G7', 'H7', 'I7'],\n",
       " ['A8', 'B8', 'C8', 'D8', 'E8', 'F8', 'G8', 'H8', 'I8'],\n",
       " ['A9', 'B9', 'C9', 'D9', 'E9', 'F9', 'G9', 'H9', 'I9'],\n",
       " ['A1', 'A2', 'A3', 'B1', 'B2', 'B3', 'C1', 'C2', 'C3'],\n",
       " ['A4', 'A5', 'A6', 'B4', 'B5', 'B6', 'C4', 'C5', 'C6'],\n",
       " ['A7', 'A8', 'A9', 'B7', 'B8', 'B9', 'C7', 'C8', 'C9'],\n",
       " ['D1', 'D2', 'D3', 'E1', 'E2', 'E3', 'F1', 'F2', 'F3'],\n",
       " ['D4', 'D5', 'D6', 'E4', 'E5', 'E6', 'F4', 'F5', 'F6'],\n",
       " ['D7', 'D8', 'D9', 'E7', 'E8', 'E9', 'F7', 'F8', 'F9'],\n",
       " ['G1', 'G2', 'G3', 'H1', 'H2', 'H3', 'I1', 'I2', 'I3'],\n",
       " ['G4', 'G5', 'G6', 'H4', 'H5', 'H6', 'I4', 'I5', 'I6'],\n",
       " ['G7', 'G8', 'G9', 'H7', 'H8', 'H9', 'I7', 'I8', 'I9']]"
      ]
     },
     "execution_count": 334,
     "metadata": {},
     "output_type": "execute_result"
    }
   ],
   "source": [
    "unitlist"
   ]
  },
  {
   "cell_type": "code",
   "execution_count": 4,
   "metadata": {},
   "outputs": [],
   "source": [
    "import os\n"
   ]
  },
  {
   "cell_type": "code",
   "execution_count": 7,
   "metadata": {},
   "outputs": [
    {
     "data": {
      "text/plain": [
       "'/Users/danielfriedman/Documents/Udacity/artificial-intelligence/Projects'"
      ]
     },
     "execution_count": 7,
     "metadata": {},
     "output_type": "execute_result"
    }
   ],
   "source": [
    "os.getcwd()"
   ]
  },
  {
   "cell_type": "code",
   "execution_count": 12,
   "metadata": {},
   "outputs": [],
   "source": [
    "os.chdir('/Users/danielfriedman/Documents/Udacity/artificial-intelligence/Projects/1_Sudoku')"
   ]
  },
  {
   "cell_type": "code",
   "execution_count": 14,
   "metadata": {},
   "outputs": [],
   "source": [
    "puzzle_1='..3.2.6..9..3.5..1..18.64....81.29..7.......8..67.82....26.95..8..2.3..9..5.1.3..'\n"
   ]
  },
  {
   "cell_type": "code",
   "execution_count": 228,
   "metadata": {},
   "outputs": [],
   "source": [
    "grid_2='4.....8.5.3..........7......2.....6.....8.4......1.......6.3.7.5..2.....1.4......'"
   ]
  },
  {
   "cell_type": "code",
   "execution_count": 31,
   "metadata": {},
   "outputs": [],
   "source": [
    "def grid_values(boxes,grid):\n",
    "    \"\"\"Convert grid string into {<box>: <value>} dict with '.' value for empties.\n",
    "\n",
    "    Args:\n",
    "        grid: Sudoku grid in string form, 81 characters long\n",
    "    Returns:\n",
    "        Sudoku grid in dictionary form:\n",
    "        - keys: Box labels, e.g. 'A1'\n",
    "        - values: Value in corresponding box, e.g. '8', or '.' if it is empty.\n",
    "    \"\"\"\n",
    "    assert len(grid)==81\n",
    "    d=dict()\n",
    "    for key,val in zip(boxes,grid):\n",
    "        if val=='.':\n",
    "            d[key]='123456789'\n",
    "        else:\n",
    "            d[key]=val\n",
    "    return d\n"
   ]
  },
  {
   "cell_type": "code",
   "execution_count": 348,
   "metadata": {},
   "outputs": [],
   "source": [
    "values= grid_values(boxes,puzzle_1)   "
   ]
  },
  {
   "cell_type": "code",
   "execution_count": 231,
   "metadata": {},
   "outputs": [],
   "source": [
    "values2=grid_values(boxes, grid_2)"
   ]
  },
  {
   "cell_type": "markdown",
   "metadata": {},
   "source": [
    "## My solution for eliminate, it does not pass the quiz test:"
   ]
  },
  {
   "cell_type": "code",
   "execution_count": 207,
   "metadata": {},
   "outputs": [],
   "source": [
    "def eliminate_from_units(temp_values, unit_types):\n",
    "    '''Iterates trough units of the chosen unit type: rows, squares or columns subiterates the boxes'''\n",
    "    for unit in unit_types:\n",
    "        for box in unit:\n",
    "            if len(temp_values[box])==1:\n",
    "#                 This box has set value, i can eliminate it from all other boxes in this unit           \n",
    "                temp_unit=unit[:unit.index(box)]+unit[unit.index(box)+1:]\n",
    "                for i in temp_unit:\n",
    "\n",
    "                    if len(temp_values[i])!=1:\n",
    "                        templ=list(temp_values[i])\n",
    "                        if temp_values[box] in templ:\n",
    "                            templ.remove(temp_values[box])\n",
    "#                             print(templ)                    \n",
    "                            temp_values[i]=''.join(templ)\n",
    "#                             print(temp_values[i])\n",
    "                        else:\n",
    "                            continue\n",
    "    return temp_values\n",
    "    "
   ]
  },
  {
   "cell_type": "code",
   "execution_count": 203,
   "metadata": {},
   "outputs": [],
   "source": [
    "def eliminate(values):\n",
    "\n",
    "    \"\"\"Eliminate values from peers of each box with a single value.\n",
    "\n",
    "    Go through all the boxes, and whenever there is a box with a single value,\n",
    "    eliminate this value from the set of values of all its peers.\n",
    "\n",
    "    Args:\n",
    "        values: Sudoku in dictionary form.\n",
    "    Returns:\n",
    "        Resulting Sudoku in dictionary form after eliminating values.\n",
    "    \"\"\"\n",
    "\n",
    "    temp_values=values.copy()\n",
    "\n",
    " \n",
    "    for unit_types in [row_units, column_units, square_units]:\n",
    "        temp_values=eliminate_from_units(temp_values, unit_types)\n",
    "    return temp_values\n"
   ]
  },
  {
   "cell_type": "code",
   "execution_count": 388,
   "metadata": {},
   "outputs": [],
   "source": [
    "values=eliminate(values)"
   ]
  },
  {
   "cell_type": "code",
   "execution_count": 389,
   "metadata": {},
   "outputs": [
    {
     "name": "stdout",
     "output_type": "stream",
     "text": [
      "   45    4578    3   |   49     2     147  |   6     5789    57  \n",
      "   9    24678    47  |   3      47     5   |   78    278     1   \n",
      "   25    257     1   |   8      79     6   |   4    23579   2357 \n",
      "---------------------+---------------------+---------------------\n",
      "  345    345     8   |   1     356     2   |   9    34567  34567 \n",
      "   7    123459   49  |   59    3569    4   |   1     3456    8   \n",
      "  1345  13459    6   |   7     359     8   |   2     345    345  \n",
      "---------------------+---------------------+---------------------\n",
      "  134    1347    2   |   6      8      9   |   5     1478    47  \n",
      "   8     1467    47  |   2      5      3   |   17    1467    9   \n",
      "   46    4679    5   |   4      1      7   |   3    24678   2467 \n",
      "\n"
     ]
    }
   ],
   "source": [
    "display(values)"
   ]
  },
  {
   "cell_type": "code",
   "execution_count": 375,
   "metadata": {},
   "outputs": [
    {
     "name": "stdout",
     "output_type": "stream",
     "text": [
      "   45    4578    3   |   49     2     147  |   6     5789    57  \n",
      "   9    24678    47  |   3      47     5   |   78    278     1   \n",
      "   25    257     1   |   8      79     6   |   4    23579   2357 \n",
      "---------------------+---------------------+---------------------\n",
      "  345    345     8   |   1     356     2   |   9    34567  34567 \n",
      "   7    123459   49  |   59    3569    4   |   1     3456    8   \n",
      "  1345  13459    6   |   7     359     8   |   2     345    345  \n",
      "---------------------+---------------------+---------------------\n",
      "  134    1347    2   |   6      8      9   |   5     1478    47  \n",
      "   8     1467    47  |   2      5      3   |   17    1467    9   \n",
      "   46    4679    5   |   4      1      7   |   3    24678   2467 \n",
      "\n"
     ]
    }
   ],
   "source": [
    "display(values3)"
   ]
  },
  {
   "cell_type": "code",
   "execution_count": 376,
   "metadata": {},
   "outputs": [
    {
     "name": "stdout",
     "output_type": "stream",
     "text": [
      "[]\n",
      "['4', '5', '4', '5', '7', '8', '3', '9', '2', '4', '6', '7', '8', '4', '7', '2', '5', '2', '5', '7', '1']\n",
      "Counter 4\n",
      "Counter 4\n",
      "Counter 4\n",
      "Counter 4\n",
      "Counter 4\n",
      "Counter 2\n",
      "Counter 1\n",
      "Counter 1\n",
      "Counter 3\n",
      "Counter 4\n",
      "Counter 1\n",
      "Counter 4\n",
      "Counter 2\n",
      "Counter 4\n",
      "Counter 4\n",
      "Counter 3\n",
      "Counter 4\n",
      "Counter 3\n",
      "Counter 4\n",
      "Counter 4\n",
      "Counter 1\n",
      "[]\n",
      "['4', '9', '2', '1', '4', '7', '3', '4', '7', '5', '8', '7', '9', '6']\n",
      "Counter 3\n",
      "Counter 2\n",
      "Counter 1\n",
      "Counter 1\n",
      "Counter 3\n",
      "Counter 3\n",
      "Counter 1\n",
      "Counter 3\n",
      "Counter 3\n",
      "Counter 1\n",
      "Counter 1\n",
      "Counter 3\n",
      "Counter 2\n",
      "Counter 1\n",
      "[]\n",
      "['6', '5', '7', '8', '9', '5', '7', '7', '8', '2', '7', '8', '1', '4', '2', '3', '5', '7', '9', '2', '3', '5', '7']\n",
      "Counter 1\n",
      "Counter 4\n",
      "Counter 6\n",
      "Counter 3\n",
      "Counter 2\n",
      "Counter 4\n",
      "Counter 6\n",
      "Counter 6\n",
      "Counter 3\n",
      "Counter 3\n",
      "Counter 6\n",
      "Counter 3\n",
      "Counter 1\n",
      "Counter 1\n",
      "Counter 3\n",
      "Counter 2\n",
      "Counter 4\n",
      "Counter 6\n",
      "Counter 2\n",
      "Counter 3\n",
      "Counter 2\n",
      "Counter 4\n",
      "Counter 6\n",
      "[]\n",
      "['3', '4', '5', '3', '4', '5', '8', '7', '1', '2', '3', '4', '5', '9', '4', '9', '1', '3', '4', '5', '1', '3', '4', '5', '9', '6']\n",
      "Counter 5\n",
      "Counter 6\n",
      "Counter 5\n",
      "Counter 5\n",
      "Counter 6\n",
      "Counter 5\n",
      "Counter 1\n",
      "Counter 1\n",
      "Counter 3\n",
      "Counter 1\n",
      "Counter 5\n",
      "Counter 6\n",
      "Counter 5\n",
      "Counter 3\n",
      "Counter 6\n",
      "Counter 3\n",
      "Counter 3\n",
      "Counter 5\n",
      "Counter 6\n",
      "Counter 5\n",
      "Counter 3\n",
      "Counter 5\n",
      "Counter 6\n",
      "Counter 5\n",
      "Counter 3\n",
      "Counter 1\n",
      "[]\n",
      "['1', '3', '5', '6', '2', '5', '9', '3', '5', '6', '9', '4', '7', '3', '5', '9', '8']\n",
      "Counter 1\n",
      "Counter 3\n",
      "Counter 4\n",
      "Counter 2\n",
      "Counter 1\n",
      "Counter 4\n",
      "Counter 3\n",
      "Counter 3\n",
      "Counter 4\n",
      "Counter 2\n",
      "Counter 3\n",
      "Counter 1\n",
      "Counter 1\n",
      "Counter 3\n",
      "Counter 4\n",
      "Counter 3\n",
      "Counter 1\n",
      "[]\n",
      "['9', '3', '4', '5', '6', '7', '3', '4', '5', '6', '7', '1', '3', '4', '5', '6', '8', '2', '3', '4', '5', '3', '4', '5']\n",
      "Counter 1\n",
      "Counter 5\n",
      "Counter 5\n",
      "Counter 5\n",
      "Counter 3\n",
      "Counter 2\n",
      "Counter 5\n",
      "Counter 5\n",
      "Counter 5\n",
      "Counter 3\n",
      "Counter 2\n",
      "Counter 1\n",
      "Counter 5\n",
      "Counter 5\n",
      "Counter 5\n",
      "Counter 3\n",
      "Counter 1\n",
      "Counter 1\n",
      "Counter 5\n",
      "Counter 5\n",
      "Counter 5\n",
      "Counter 5\n",
      "Counter 5\n",
      "Counter 5\n",
      "[]\n",
      "['1', '3', '4', '1', '3', '4', '7', '2', '8', '1', '4', '6', '7', '4', '7', '4', '6', '4', '6', '7', '9', '5']\n",
      "Counter 3\n",
      "Counter 2\n",
      "Counter 6\n",
      "Counter 3\n",
      "Counter 2\n",
      "Counter 6\n",
      "Counter 4\n",
      "Counter 1\n",
      "Counter 1\n",
      "Counter 3\n",
      "Counter 6\n",
      "Counter 3\n",
      "Counter 4\n",
      "Counter 6\n",
      "Counter 4\n",
      "Counter 6\n",
      "Counter 3\n",
      "Counter 6\n",
      "Counter 3\n",
      "Counter 4\n",
      "Counter 1\n",
      "Counter 1\n",
      "[]\n",
      "['6', '8', '9', '2', '5', '3', '4', '1', '7']\n",
      "Counter 1\n",
      "Counter 1\n",
      "Counter 1\n",
      "Counter 1\n",
      "Counter 1\n",
      "Counter 1\n",
      "Counter 1\n",
      "Counter 1\n",
      "Counter 1\n",
      "[]\n",
      "['5', '1', '4', '7', '8', '4', '7', '1', '7', '1', '4', '6', '7', '9', '3', '2', '4', '6', '7', '8', '2', '4', '6', '7']\n",
      "Counter 1\n",
      "Counter 3\n",
      "Counter 5\n",
      "Counter 6\n",
      "Counter 2\n",
      "Counter 5\n",
      "Counter 6\n",
      "Counter 3\n",
      "Counter 6\n",
      "Counter 3\n",
      "Counter 5\n",
      "Counter 3\n",
      "Counter 6\n",
      "Counter 1\n",
      "Counter 1\n",
      "Counter 2\n",
      "Counter 5\n",
      "Counter 3\n",
      "Counter 6\n",
      "Counter 2\n",
      "Counter 2\n",
      "Counter 5\n",
      "Counter 3\n",
      "Counter 6\n"
     ]
    }
   ],
   "source": [
    "values4=only_choice(values3)"
   ]
  },
  {
   "cell_type": "code",
   "execution_count": 377,
   "metadata": {},
   "outputs": [
    {
     "name": "stdout",
     "output_type": "stream",
     "text": [
      "  45   4578   3   |  49    2     1   |  6    5789   57  \n",
      "  9     6     47  |  3     47    5   |  78   278    1   \n",
      "  25   257    1   |  8     79    6   |  4   23579  2357 \n",
      "------------------+------------------+------------------\n",
      " 345   345    8   |  1    356    2   |  9   34567 34567 \n",
      "  7     2     49  |  59   3569   4   |  1    3456   8   \n",
      " 1345 13459   6   |  7    359    8   |  2    345   345  \n",
      "------------------+------------------+------------------\n",
      " 134   1347   2   |  6     8     9   |  5    1478   47  \n",
      "  8    1467   47  |  2     5     3   |  17   1467   9   \n",
      "  46    9     5   |  4     1     7   |  3   24678  2467 \n",
      "\n"
     ]
    }
   ],
   "source": [
    "display(values4)"
   ]
  },
  {
   "cell_type": "markdown",
   "metadata": {},
   "source": [
    "## Implement only choice"
   ]
  },
  {
   "cell_type": "code",
   "execution_count": 340,
   "metadata": {},
   "outputs": [],
   "source": [
    "values=values3"
   ]
  },
  {
   "cell_type": "code",
   "execution_count": 343,
   "metadata": {},
   "outputs": [
    {
     "name": "stdout",
     "output_type": "stream",
     "text": [
      "  45   4578   3   |  49    2     1   |  6    5789   57  \n",
      "  9     6     47  |  3     47    5   |  78   278    1   \n",
      "  25   257    1   |  8     79    6   |  4   23579  2357 \n",
      "------------------+------------------+------------------\n",
      " 345   345    8   |  1    356    2   |  9   34567 34567 \n",
      "  7     2     49  |  59   3569   4   |  1    3456   8   \n",
      " 1345 13459   6   |  7    359    8   |  2    345   345  \n",
      "------------------+------------------+------------------\n",
      " 134   1347   2   |  6     8     9   |  5    1478   47  \n",
      "  8    1467   47  |  2     5     3   |  17   1467   9   \n",
      "  46    9     5   |  4     1     7   |  3   24678  2467 \n",
      "\n"
     ]
    }
   ],
   "source": [
    "display(values)"
   ]
  },
  {
   "cell_type": "code",
   "execution_count": 383,
   "metadata": {},
   "outputs": [],
   "source": [
    "def only_choice(values):\n",
    "    \"\"\"Finalize all values that are the only choice for a unit.\n",
    "\n",
    "    Go through all the units, and whenever there is a unit with a value\n",
    "    that only fits in one box, assign the value to this box.\n",
    "\n",
    "    Input: Sudoku in dictionary form.\n",
    "    Output: Resulting Sudoku in dictionary form after filling in only choices.\n",
    "    \"\"\"\n",
    "    \n",
    "    for square in unitlist: \n",
    "        # get dict of boxes in each square\n",
    "        square_boxes=dict()\n",
    "        for box in square:\n",
    "            # Split string into list of integers\n",
    "            box_vals=list(values[box])\n",
    "            # Add list as value to box in the dict:\n",
    "            square_boxes[box]=box_vals\n",
    "\n",
    "    # iterate through each of those lists and make a list of all values\n",
    "\n",
    "        int_list=[]\n",
    "        for key in square_boxes:\n",
    "            for val in square_boxes[key]:\n",
    "                int_list.append(val)\n",
    "\n",
    "        # iterate list of all values find which number does not repeat, use counter\n",
    "\n",
    "        for i in int_list:\n",
    "            counter=0\n",
    "            for j in int_list:\n",
    "                if i==j:\n",
    "                    counter+=1\n",
    "            if counter==1:        \n",
    "            # find which box has that number:\n",
    "                for key in square_boxes:\n",
    "                    if i in square_boxes[key]:\n",
    "                        # make that number the only choice for that box in values{}\n",
    "                        values[key]=str(i)\n",
    "    return values"
   ]
  },
  {
   "cell_type": "markdown",
   "metadata": {},
   "source": [
    "## Hard Sudoku"
   ]
  },
  {
   "cell_type": "code",
   "execution_count": 232,
   "metadata": {},
   "outputs": [
    {
     "name": "stdout",
     "output_type": "stream",
     "text": [
      "    4     123456789 123456789 |123456789 123456789 123456789 |    8     123456789     5     \n",
      "123456789     3     123456789 |123456789 123456789 123456789 |123456789 123456789 123456789 \n",
      "123456789 123456789 123456789 |    7     123456789 123456789 |123456789 123456789 123456789 \n",
      "------------------------------+------------------------------+------------------------------\n",
      "123456789     2     123456789 |123456789 123456789 123456789 |123456789     6     123456789 \n",
      "123456789 123456789 123456789 |123456789     8     123456789 |    4     123456789 123456789 \n",
      "123456789 123456789 123456789 |123456789     1     123456789 |123456789 123456789 123456789 \n",
      "------------------------------+------------------------------+------------------------------\n",
      "123456789 123456789 123456789 |    6     123456789     3     |123456789     7     123456789 \n",
      "    5     123456789 123456789 |    2     123456789 123456789 |123456789 123456789 123456789 \n",
      "    1     123456789     4     |123456789 123456789 123456789 |123456789 123456789 123456789 \n",
      "\n"
     ]
    }
   ],
   "source": [
    "display(values2)"
   ]
  }
 ],
 "metadata": {
  "kernelspec": {
   "display_name": "Python 3",
   "language": "python",
   "name": "python3"
  },
  "language_info": {
   "codemirror_mode": {
    "name": "ipython",
    "version": 3
   },
   "file_extension": ".py",
   "mimetype": "text/x-python",
   "name": "python",
   "nbconvert_exporter": "python",
   "pygments_lexer": "ipython3",
   "version": "3.8.2"
  }
 },
 "nbformat": 4,
 "nbformat_minor": 4
}
